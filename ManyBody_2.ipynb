{
 "cells": [
  {
   "cell_type": "code",
   "execution_count": 1,
   "id": "70f03458-5f26-4c6d-a5fd-c1f29181564f",
   "metadata": {},
   "outputs": [],
   "source": [
    "import numpy as np\n",
    "from sympy.utilities.iterables import multiset_permutations\n",
    "import matplotlib.pyplot as plt\n",
    "from tqdm import tqdm"
   ]
  },
  {
   "cell_type": "code",
   "execution_count": 56,
   "id": "60ba2535-2699-4c6d-ad02-d5ab3ae0f6e8",
   "metadata": {},
   "outputs": [],
   "source": [
    "Ns = 4; # number of single-particle states\n",
    "Ns = 2 * Ns # adjust for spin\n",
    "Np = 2 # number of fermionic particles"
   ]
  },
  {
   "cell_type": "code",
   "execution_count": 57,
   "id": "bad5b680-3adc-4431-81c2-53ade8fcec92",
   "metadata": {},
   "outputs": [
    {
     "name": "stdout",
     "output_type": "stream",
     "text": [
      "[0 1 2 3 0 1 2 3]\n"
     ]
    }
   ],
   "source": [
    "def q(N1, k):\n",
    "    return np.sum(N1[:k])\n",
    "def one_el(N1,N2,r,s):\n",
    "    N1_1 = np.delete(N1, np.array([r,s]))\n",
    "    N2_1 = np.delete(N2, np.array([r,s]))\n",
    "    delta = np.all(N1_1 == N2_1)\n",
    "    dr = 0\n",
    "    ds = 0\n",
    "    if r != s:\n",
    "        if N1[r]-1 == N2[r] :\n",
    "            dr = 1\n",
    "        if N1[s] == N2[s]-1 :\n",
    "            ds = 1\n",
    "    if r == s:\n",
    "        if N1[r] == N2[s]:\n",
    "            dr = 1\n",
    "            ds = 1\n",
    "    #print(delta, dr, ds)\n",
    "    return (N1[r]*((-1)**q(N1,r)))*(N2[s]*((-1)**q(N2,s)))*delta*dr*ds\n",
    "def two_el(N1, N2, r, s, t, v):\n",
    "    sig_v = N2[v]*(-1)**q(N2,v)\n",
    "    N2[v]-=1\n",
    "    if sig_v != 0:\n",
    "        sig_t = N2[t]*(-1)**q(N2,t) * sig_v\n",
    "        N2[t]-=1\n",
    "        if sig_t != 0:\n",
    "            sig_s = (1-N2[s])*(-1)**q(N2,s) * sig_t\n",
    "            N2[s] += 1\n",
    "            if sig_s != 0:\n",
    "                sig_r = (1-N2[r])*(-1)**q(N2,r) * sig_s\n",
    "                N2[r] += 1\n",
    "                if sig_r != 0 and np.all(N1 == N2):\n",
    "                    return sig_r\n",
    "    return 0\n",
    "\n",
    "def spin(ind):\n",
    "    if ind < Ns/2:\n",
    "        return 1\n",
    "    if ind >= Ns/2:\n",
    "        return 0\n",
    "def site(ind):\n",
    "    if ind < Ns/2:\n",
    "        return ind\n",
    "    if ind >= Ns/2:\n",
    "        return int(ind - Ns/2)\n",
    "    \n",
    "site_vec = np.vectorize(site)\n",
    "print(site_vec(np.arange(Ns)))"
   ]
  },
  {
   "cell_type": "code",
   "execution_count": 58,
   "id": "c1a3407e-85dc-4082-9baa-c8b4eeee8590",
   "metadata": {},
   "outputs": [
    {
     "data": {
      "image/png": "[encoded data removed]",
      "text/plain": [
       "<Figure size 640x480 with 1 Axes>"
      ]
     },
     "metadata": {},
     "output_type": "display_data"
    }
   ],
   "source": [
    "U = 1;\n",
    "def hub_U(r,s,t,v): # spin off-diagonal, site-diagonal\n",
    "    sites = site_vec(np.array([r,s,t,v]))\n",
    "    if len(np.unique(sites)) != 1:\n",
    "        return 0\n",
    "    else:\n",
    "        if spin(r) == spin(t) and spin(s) == spin(v) and spin(r) != spin(s):\n",
    "            return U\n",
    "        else:\n",
    "            return 0\n",
    "t = 1;\n",
    "def NN(r,s): \n",
    "    if spin(r) == spin(s):\n",
    "        if r == s + 1:\n",
    "            return -t\n",
    "        if r == s - 1:\n",
    "            return -t\n",
    "        if s == r + 1:\n",
    "            return -t\n",
    "        if s == r - 1:\n",
    "            return -t\n",
    "        if s + Ns/2 == r+1:\n",
    "            return -t\n",
    "        if r + Ns/2 == s+1:\n",
    "            return -t\n",
    "    return 0\n",
    "\n",
    "def one_el_mat(op):\n",
    "    out_mat = np.zeros((Ns, Ns), dtype=complex)\n",
    "    for r in range(Ns):\n",
    "        for s in range(Ns):\n",
    "            out_mat[r,s] = op(r,s)\n",
    "    return out_mat\n",
    "def two_el_mat(op):\n",
    "    out_mat = np.zeros((Ns, Ns, Ns, Ns), dtype=complex)\n",
    "    for r in range(Ns):\n",
    "        for s in range(Ns):\n",
    "            for t in range(Ns):\n",
    "                for v in range(Ns):\n",
    "                    out_mat[r,s,t,v] = op(r,s,t,v)\n",
    "    return out_mat\n",
    "    \n",
    "NN_mat = one_el_mat(NN)\n",
    "U_mat = two_el_mat(hub_U)\n",
    "plt.imshow(np.real(NN_mat))\n",
    "plt.show()"
   ]
  },
  {
   "cell_type": "code",
   "execution_count": 59,
   "id": "fbb0ebe1-5247-498e-b294-a502d715bd94",
   "metadata": {},
   "outputs": [
    {
     "name": "stdout",
     "output_type": "stream",
     "text": [
      "8\n"
     ]
    }
   ],
   "source": [
    "def S(Np, Ns):\n",
    "    S0 = np.zeros(Ns,dtype=int)\n",
    "    S0[:Np] = 1\n",
    "    return np.array(list(multiset_permutations(S0)))\n",
    "N1_basis = S(1,Ns)\n",
    "N2_basis = S(2,Ns)\n",
    "print(len(N1_basis))"
   ]
  },
  {
   "cell_type": "code",
   "execution_count": 60,
   "id": "2fe20534-51d0-4b0f-a91c-9907849e832c",
   "metadata": {},
   "outputs": [
    {
     "name": "stderr",
     "output_type": "stream",
     "text": [
      "100%|████████████████████████████████████████████| 8/8 [00:00<00:00, 416.83it/s]\n"
     ]
    }
   ],
   "source": [
    "def one_el_op(op_mat,basis):\n",
    "    one_el_mat = np.zeros((len(basis),len(basis)),dtype=complex)\n",
    "    op_mat_pos = np.where(op_mat != 0.0)\n",
    "    ran = np.arange(len(basis))\n",
    "    for n in tqdm(range(len(basis))):\n",
    "        for m in ran[n:]:\n",
    "            for pos_n in range(len(op_mat_pos[1])):\n",
    "                r = op_mat_pos[0][pos_n]\n",
    "                s = op_mat_pos[1][pos_n]\n",
    "                one_el_mat[n,m] += one_el(basis[n],basis[m],r,s)*op_mat[r,s]\n",
    "            one_el_mat[m,n] = np.conjugate(one_el_mat[n,m])\n",
    "    return one_el_mat\n",
    "\n",
    "NN_CI_N1_mat = one_el_op(NN_mat,N1_basis)"
   ]
  },
  {
   "cell_type": "code",
   "execution_count": 76,
   "id": "2b43ed87-0fd0-47a2-83d6-ce0822ef7d6c",
   "metadata": {},
   "outputs": [],
   "source": [
    "def two_el_av(op_mat, ref):\n",
    "    Nn = np.shape(ref)[1]\n",
    "    out1 = np.zeros((Ns, Nn, Ns, Nn),dtype=complex)\n",
    "    out2 = np.zeros((Ns, Nn, Nn, Ns),dtype=complex)\n",
    "    for r in range(Ns):\n",
    "        for mt in range(Nn):\n",
    "            for t in range(Ns):\n",
    "                for nt in range(Nn):\n",
    "                    mel1 = op_mat[r,:,t,:]\n",
    "                    out1[r,mt,t,nt] = np.dot(np.conjugate(ref[:,mt]),np.dot(mel1,ref[:,nt]))\n",
    "                    mel2 = op_mat[r,:,:,t]\n",
    "                    out2[r,mt,nt,t] = np.dot(np.conjugate(ref[:,mt]),np.dot(mel2,ref[:,nt]))\n",
    "    return out1, out2\n",
    "\n",
    "def one_el_mf(two_el_av1, two_el_av2):\n",
    "    out = np.zeros((Ns, Ns), dtype=complex)\n",
    "    for r in range(Ns):\n",
    "        for t in range(Ns):\n",
    "            out[r,t] = 2*np.sum(two_el_av1[r,:,t,:]) - np.sum(two_el_av2[r,:,:,t])\n",
    "    return out\n",
    "\n",
    "def get_MF(U_mat, U_ref):\n",
    "    umat_mf1, umat_mf2 = two_el_av(U_mat, U_ref)\n",
    "    umat_one_el_mf = one_el_mf(umat_mf1, umat_mf2)\n",
    "    #U_CI_MF_mat = one_el_op(umat_one_el_mf, N1_basis)\n",
    "    return umat_one_el_mf\n",
    "\n",
    "            "
   ]
  },
  {
   "cell_type": "code",
   "execution_count": 77,
   "id": "c12acb1b-821d-4784-8bfe-a78955708ee5",
   "metadata": {},
   "outputs": [
    {
     "name": "stdout",
     "output_type": "stream",
     "text": [
      "(8, 2)\n"
     ]
    }
   ],
   "source": [
    "e_N1,U_N1 = np.linalg.eigh(NN_CI_N1_mat)\n",
    "U_ref = U_N1[:,:2] # construct 2 electron reference state \n",
    "print(np.shape(U_ref))"
   ]
  },
  {
   "cell_type": "code",
   "execution_count": 79,
   "id": "5bbada2f-ab6d-4524-b24e-547343a89774",
   "metadata": {},
   "outputs": [],
   "source": [
    "H_MF = NN_CI_N1_mat + get_MF(U_mat, U_ref)\n",
    "e, U = np.linalg.eigh(H_MF)\n"
   ]
  },
  {
   "cell_type": "code",
   "execution_count": null,
   "id": "1a34d3db-afa9-4f22-8b5d-3a712f6b7f86",
   "metadata": {},
   "outputs": [],
   "source": []
  }
 ],
 "metadata": {
  "kernelspec": {
   "display_name": "Python 3 (ipykernel)",
   "language": "python",
   "name": "python3"
  },
  "language_info": {
   "codemirror_mode": {
    "name": "ipython",
    "version": 3
   },
   "file_extension": ".py",
   "mimetype": "text/x-python",
   "name": "python",
   "nbconvert_exporter": "python",
   "pygments_lexer": "ipython3",
   "version": "3.10.6"
  }
 },
 "nbformat": 4,
 "nbformat_minor": 5
}
