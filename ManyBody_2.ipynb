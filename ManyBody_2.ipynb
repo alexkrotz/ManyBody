{
 "cells": [
  {
   "cell_type": "code",
   "execution_count": 38,
   "id": "70f03458-5f26-4c6d-a5fd-c1f29181564f",
   "metadata": {},
   "outputs": [],
   "source": [
    "import numpy as np\n",
    "from sympy.utilities.iterables import multiset_permutations\n",
    "import matplotlib.pyplot as plt\n",
    "from tqdm import tqdm"
   ]
  },
  {
   "cell_type": "code",
   "execution_count": 138,
   "id": "60ba2535-2699-4c6d-ad02-d5ab3ae0f6e8",
   "metadata": {},
   "outputs": [
    {
     "name": "stdout",
     "output_type": "stream",
     "text": [
      "1.0\n"
     ]
    }
   ],
   "source": [
    "Ns = 8 # number of single-particle states\n",
    "Ns = 2 * Ns # adjust for spin\n",
    "Np = 8 #number of fermionic particles #N0 = Ns/2 N = Np\n",
    "n = 2*Np/(Ns) # filling factor\n",
    "print(n)"
   ]
  },
  {
   "cell_type": "code",
   "execution_count": 139,
   "id": "bad5b680-3adc-4431-81c2-53ade8fcec92",
   "metadata": {},
   "outputs": [
    {
     "name": "stdout",
     "output_type": "stream",
     "text": [
      "[1 1 1 1 1 1 1 1 0 0 0 0 0 0 0 0]\n",
      "[0 1 2 3 4 5 6 7 0 1 2 3 4 5 6 7]\n"
     ]
    }
   ],
   "source": [
    "def q(N1, k):\n",
    "    return np.sum(N1[:k])\n",
    "def one_el(N1,N2,r,s):\n",
    "    N1_1 = np.delete(N1, np.array([r,s]))\n",
    "    N2_1 = np.delete(N2, np.array([r,s]))\n",
    "    delta = np.all(N1_1 == N2_1)\n",
    "    dr = 0\n",
    "    ds = 0\n",
    "    if r != s:\n",
    "        if N1[r]-1 == N2[r] :\n",
    "            dr = 1\n",
    "        if N1[s] == N2[s]-1 :\n",
    "            ds = 1\n",
    "    if r == s:\n",
    "        if N1[r] == N2[s]:\n",
    "            dr = 1\n",
    "            ds = 1\n",
    "    return (N1[r]*((-1)**q(N1,r)))*(N2[s]*((-1)**q(N2,s)))*delta*dr*ds\n",
    "def two_el(N1, N2, r, s, t, v):\n",
    "    sig_v = N2[v]*(-1)**q(N2,v)\n",
    "    N2[v]-=1\n",
    "    if sig_v != 0:\n",
    "        sig_t = N2[t]*(-1)**q(N2,t) * sig_v\n",
    "        N2[t]-=1\n",
    "        if sig_t != 0:\n",
    "            sig_s = (1-N2[s])*(-1)**q(N2,s) * sig_t\n",
    "            N2[s] += 1\n",
    "            if sig_s != 0:\n",
    "                sig_r = (1-N2[r])*(-1)**q(N2,r) * sig_s\n",
    "                N2[r] += 1\n",
    "                if sig_r != 0 and np.all(N1 == N2):\n",
    "                    return sig_r\n",
    "    return 0\n",
    "\n",
    "def spin(ind):\n",
    "    if ind < Ns/2:\n",
    "        return 1\n",
    "    if ind >= Ns/2:\n",
    "        return 0\n",
    "def site(ind):\n",
    "    if ind < Ns/2:\n",
    "        return ind\n",
    "    if ind >= Ns/2:\n",
    "        return int(ind - Ns/2)\n",
    "spin_vec = np.vectorize(spin)\n",
    "site_vec = np.vectorize(site)\n",
    "print(spin_vec(np.arange(Ns)))\n",
    "print(site_vec(np.arange(Ns)))"
   ]
  },
  {
   "cell_type": "code",
   "execution_count": 171,
   "id": "c1a3407e-85dc-4082-9baa-c8b4eeee8590",
   "metadata": {},
   "outputs": [],
   "source": [
    "V = 1;\n",
    "def hub_U(r,s,t,v): # spin off-diagonal, site-diagonal\n",
    "    sites = site_vec(np.array([r,s,t,v]))\n",
    "    if len(np.unique(sites)) != 1:\n",
    "        return 0\n",
    "    else:\n",
    "        if spin(r) == spin(t) and spin(s) == spin(v) and spin(r) != spin(s):\n",
    "            return V/2\n",
    "        else:\n",
    "            return V/4\n",
    "def nearest(site1,site2):\n",
    "    if site1 == site2 + 1:\n",
    "        return 1\n",
    "    if site1 == site2 - 1:\n",
    "        return 1\n",
    "    if site2 == site1 + 1:\n",
    "        return 1\n",
    "    if site2 == site1 - 1:\n",
    "        return 1\n",
    "    if site2 + Ns/2 == site1 + 1:\n",
    "        return 1\n",
    "    if site1 + Ns/2 == site2 + 1:\n",
    "        return 1\n",
    "    return 0\n",
    "def next_nearest(site1, site2):\n",
    "    if nearest(site1,site2):\n",
    "        return 1\n",
    "    if site1 == site2 + 2:\n",
    "        return 1\n",
    "    if site1 == site2 - 2:\n",
    "        return 1\n",
    "    if site2 == site1 + 2:\n",
    "        return 1\n",
    "    if site2 == site1 - 2:\n",
    "        return 1\n",
    "    if site2 + Ns/2 == site1 + 2:\n",
    "        return 1\n",
    "    if site1 + Ns/2 == site2 + 2:\n",
    "        return 1\n",
    "    return 0\n",
    "def hub_U2(r,s,t,v): # spin off-diagonal site nearest neighbors\n",
    "    sites = site_vec(np.array([r,s,t,v]))\n",
    "    spins = spin_vec(np.array([r,s,t,v]))\n",
    "    if sites[0] == sites[2] and spins[0] == spins[2]:\n",
    "        if sites[1] == sites[3] and spins[1] == spins[3]:\n",
    "            if spins[0] != spins[1]:\n",
    "                if sites[0]==sites[1]:\n",
    "                    return V/2\n",
    "                if next_nearest(sites[0],sites[1])==1:\n",
    "                    return V/6\n",
    "    return 0# V/3\n",
    "    \n",
    "t = 1;\n",
    "def NN(r,s): \n",
    "    if spin(r) == spin(s):\n",
    "        return -1*nearest(site(r), site(s))*t\n",
    "    return 0\n",
    "\n",
    "def one_el_mat(op):\n",
    "    out_mat = np.zeros((Ns, Ns), dtype=complex)\n",
    "    for r in range(Ns):\n",
    "        for s in range(Ns):\n",
    "            out_mat[r,s] = op(r,s)\n",
    "    return out_mat\n",
    "def two_el_mat(op):\n",
    "    out_mat = np.zeros((Ns, Ns, Ns, Ns), dtype=complex)\n",
    "    for r in range(Ns):\n",
    "        for s in range(Ns):\n",
    "            for t in range(Ns):\n",
    "                for v in range(Ns):\n",
    "                    out_mat[r,s,t,v] = op(r,s,t,v)\n",
    "    return out_mat\n",
    "    \n",
    "NN_mat = one_el_mat(NN)\n",
    "U_mat = two_el_mat(hub_U)"
   ]
  },
  {
   "cell_type": "code",
   "execution_count": 172,
   "id": "fbb0ebe1-5247-498e-b294-a502d715bd94",
   "metadata": {},
   "outputs": [
    {
     "name": "stdout",
     "output_type": "stream",
     "text": [
      "16\n"
     ]
    }
   ],
   "source": [
    "def S(Np, Ns):\n",
    "    S0 = np.zeros(Ns,dtype=int)\n",
    "    S0[:Np] = 1\n",
    "    return np.array(list(multiset_permutations(S0)))\n",
    "N1_basis = S(1,Ns)\n",
    "#N2_basis = S(2,Ns)\n",
    "print(len(N1_basis))"
   ]
  },
  {
   "cell_type": "code",
   "execution_count": 173,
   "id": "2fe20534-51d0-4b0f-a91c-9907849e832c",
   "metadata": {},
   "outputs": [
    {
     "name": "stderr",
     "output_type": "stream",
     "text": [
      "100%|█████████████████████████████████████████████████████████████████████████████████████████████████████████████| 16/16 [00:00<00:00, 90.87it/s]\n"
     ]
    }
   ],
   "source": [
    "def one_el_op(op_mat,basis):\n",
    "    one_el_mat = np.zeros((len(basis),len(basis)),dtype=complex)\n",
    "    op_mat_pos = np.where(op_mat != 0.0)\n",
    "    ran = np.arange(len(basis))\n",
    "    for n in tqdm(range(len(basis))):\n",
    "        for m in ran[n:]:\n",
    "            for pos_n in range(len(op_mat_pos[1])):\n",
    "                r = op_mat_pos[0][pos_n]\n",
    "                s = op_mat_pos[1][pos_n]\n",
    "                one_el_mat[n,m] += one_el(basis[n],basis[m],r,s)*op_mat[r,s]\n",
    "            one_el_mat[m,n] = np.conjugate(one_el_mat[n,m])\n",
    "    return one_el_mat\n",
    "\n",
    "NN_CI_N1_mat = one_el_op(NN_mat,N1_basis)"
   ]
  },
  {
   "cell_type": "code",
   "execution_count": 174,
   "id": "738adc5c-895a-4a90-a617-5e062a021250",
   "metadata": {},
   "outputs": [
    {
     "data": {
      "image/png": "[encoded data removed]",
      "text/plain": [
       "<Figure size 640x480 with 1 Axes>"
      ]
     },
     "metadata": {},
     "output_type": "display_data"
    }
   ],
   "source": [
    "\n",
    "def one_el_mf(op_mat,U_ref):\n",
    "    out = np.zeros((Ns, Ns), dtype=complex)\n",
    "    for r in range(Ns):\n",
    "        for s in range(Ns):\n",
    "            for t in range(Ns):\n",
    "                for u in range(Ns):\n",
    "                    for m in range(Np):\n",
    "                        out[r,s] += (2*op_mat[r,t,s,u] - op_mat[r,t,u,s])*np.dot(np.conjugate(U_ref[t,m]),U_ref[u,m])\n",
    "    return out\n",
    "\n",
    "def get_MF(U_mat, U_ref):\n",
    "    umat_one_el_mf = one_el_mf(U_mat, U_ref)\n",
    "    #U_CI_MF_mat = one_el_op(umat_one_el_mf, N1_basis)\n",
    "    return umat_one_el_mf\n",
    "e0,U = np.linalg.eigh(NN_CI_N1_mat)\n",
    "plt.imshow(np.abs(get_MF(U_mat,U[:,:Np])))\n",
    "plt.show()\n"
   ]
  },
  {
   "cell_type": "code",
   "execution_count": 181,
   "id": "751fe178-f976-4ad7-b12c-d7d7f4fab0be",
   "metadata": {},
   "outputs": [
    {
     "name": "stdout",
     "output_type": "stream",
     "text": [
      "7.999999999999997\n",
      "0 6.847994393766044e-14\n",
      "number of iterations:  0\n",
      "7.999999999999997\n",
      "8.0\n"
     ]
    }
   ],
   "source": [
    "def get_diff(U0,U1):\n",
    "    dif1 = np.zeros((Ns, Ns),dtype=complex)\n",
    "    dif2 = np.zeros((Ns, Ns),dtype=complex)\n",
    "    for r in range(Ns):\n",
    "        for s in range(Ns):\n",
    "            dif1[r,s] = np.sum(np.conjugate(U1[r,:])*U1[s,:])\n",
    "            dif2[r,s] = np.sum(np.conjugate(U0[r,:])*U0[s,:])\n",
    "    #print(dif1)\n",
    "    #print(dif2)\n",
    "    return np.sum(np.abs(dif1 - dif2))\n",
    "\n",
    "def HF():\n",
    "    diff = 1\n",
    "    e,U = np.linalg.eigh(NN_CI_N1_mat)\n",
    "    U0 = U\n",
    "    n=1\n",
    "    max_iter = 10000\n",
    "    for n in range(max_iter):\n",
    "        U_ref = U[:,:Np]\n",
    "        U_last = U\n",
    "        e_last = e\n",
    "        U_1el = get_MF(U_mat,U_ref)\n",
    "        e,U = np.linalg.eigh(NN_CI_N1_mat + U_1el)\n",
    "        \n",
    "        #plt.imshow(np.abs(U))\n",
    "        #plt.show()\n",
    "        #plt.imshow(np.abs(U_last))\n",
    "        #plt.show()\n",
    "        diff = get_diff(U,U_last)#\n",
    "        print(np.sum(e))\n",
    "        print(n,diff)\n",
    "        if diff < 1e-10:\n",
    "            break\n",
    "        #break\n",
    "    print('number of iterations: ',n)\n",
    "    return U0,U, e\n",
    "U,U_MF,e=HF()\n",
    "print(np.sum(e))\n",
    "print(2*np.sum(e0+((V*n)/4)))"
   ]
  },
  {
   "cell_type": "code",
   "execution_count": 179,
   "id": "40b5d125-c67d-4cdf-b018-156ad34da4d4",
   "metadata": {},
   "outputs": [
    {
     "name": "stdout",
     "output_type": "stream",
     "text": [
      "[-0.35355339+0.j -0.35355339+0.j -0.35355339+0.j -0.35355339+0.j\n",
      " -0.35355339+0.j -0.35355339+0.j -0.35355339+0.j -0.35355339+0.j\n",
      "  0.        +0.j  0.        +0.j  0.        +0.j  0.        +0.j\n",
      "  0.        +0.j  0.        +0.j  0.        +0.j  0.        +0.j]\n",
      "[ 0.        +0.j  0.        +0.j  0.        +0.j  0.        +0.j\n",
      "  0.        +0.j  0.        +0.j  0.        +0.j  0.        +0.j\n",
      " -0.35355339+0.j -0.35355339+0.j -0.35355339+0.j -0.35355339+0.j\n",
      " -0.35355339+0.j -0.35355339+0.j -0.35355339+0.j -0.35355339+0.j]\n"
     ]
    }
   ],
   "source": [
    "e,U = np.linalg.eigh(NN_CI_N1_mat)\n",
    "print(U[:,0])\n",
    "print(U[:,1])"
   ]
  },
  {
   "cell_type": "code",
   "execution_count": null,
   "id": "fa02c65c-8143-4a5d-a147-68dfa0e70944",
   "metadata": {},
   "outputs": [],
   "source": []
  }
 ],
 "metadata": {
  "kernelspec": {
   "display_name": "Python 3 (ipykernel)",
   "language": "python",
   "name": "python3"
  },
  "language_info": {
   "codemirror_mode": {
    "name": "ipython",
    "version": 3
   },
   "file_extension": ".py",
   "mimetype": "text/x-python",
   "name": "python",
   "nbconvert_exporter": "python",
   "pygments_lexer": "ipython3",
   "version": "3.10.6"
  }
 },
 "nbformat": 4,
 "nbformat_minor": 5
}
